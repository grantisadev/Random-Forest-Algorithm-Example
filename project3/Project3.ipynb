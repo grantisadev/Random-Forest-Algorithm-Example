{
 "cells": [
  {
   "cell_type": "code",
   "execution_count": 4,
   "id": "8febe88b-301c-41a3-90c1-c8042c7d4ba6",
   "metadata": {},
   "outputs": [
    {
     "data": {
      "text/plain": [
       "'\\nGrant Oliver\\nProject #3\\nCOMP3800 Data Analytics\\nProfessor Zhang\\n'"
      ]
     },
     "execution_count": 4,
     "metadata": {},
     "output_type": "execute_result"
    }
   ],
   "source": [
    "'''\n",
    "Grant Oliver\n",
    "Project #3\n",
    "COMP3800 Data Analytics\n",
    "Professor Zhang\n",
    "'''"
   ]
  },
  {
   "cell_type": "code",
   "execution_count": 7,
   "id": "aa10c42b-032e-47fd-83bf-04c26b0fb22a",
   "metadata": {},
   "outputs": [
    {
     "data": {
      "text/plain": [
       "'\\n\"Student Depression Dataset, Analyzing Mental Health Trends and Predictors Among Students\"\\n\\nhttps://www.kaggle.com/datasets/hopesb/student-depression-dataset/data\\n'"
      ]
     },
     "execution_count": 7,
     "metadata": {},
     "output_type": "execute_result"
    }
   ],
   "source": [
    "'''\n",
    "\"Student Depression Dataset, Analyzing Mental Health Trends and Predictors Among Students\"\n",
    "\n",
    "https://www.kaggle.com/datasets/hopesb/student-depression-dataset/data\n",
    "'''"
   ]
  },
  {
   "cell_type": "code",
   "execution_count": 1,
   "id": "9472a792-4600-45a5-9a5c-af34db9c1c35",
   "metadata": {},
   "outputs": [],
   "source": [
    "import pandas as pd\n",
    "import numpy as np"
   ]
  },
  {
   "cell_type": "code",
   "execution_count": 14,
   "id": "16ee9c96-867a-4c71-83f7-d763f3f126c3",
   "metadata": {},
   "outputs": [],
   "source": [
    "from sklearn.model_selection import train_test_split\n",
    "from sklearn.ensemble import RandomForestClassifier\n",
    "from sklearn.metrics import accuracy_score, classification_report\n",
    "from sklearn.preprocessing import MinMaxScaler\n",
    "import pickle"
   ]
  },
  {
   "cell_type": "code",
   "execution_count": 8,
   "id": "1f2e5481-aa9f-419d-a699-7d42bebc5e76",
   "metadata": {},
   "outputs": [],
   "source": [
    "# Simple functions to enhance readability\n",
    "\n",
    "# Formats and prints the passed message parameter for displaying titles of certain figures\n",
    "def printTitle(message):\n",
    "    m = message.upper()\n",
    "    m = \"\\n* \" + m + \" *\"\n",
    "    print(m)\n",
    "\n",
    "# Formats and prints a line of asterisks (*) to act as a line separator\n",
    "def printLineSep(new_line_before, new_line_after):\n",
    "    line_len = 100 # prev 65\n",
    "    if new_line_before:\n",
    "        print()\n",
    "    print(\"*\"*line_len)\n",
    "    if new_line_after:\n",
    "        print()"
   ]
  },
  {
   "cell_type": "code",
   "execution_count": 10,
   "id": "7b651ee0-3409-40b7-a34d-a20d966cd31b",
   "metadata": {},
   "outputs": [
    {
     "name": "stdout",
     "output_type": "stream",
     "text": [
      "\n",
      "* OVERVIEW *\n",
      "\n",
      "****************************************************************************************************\n",
      "\n",
      "<class 'pandas.core.frame.DataFrame'>\n",
      "RangeIndex: 502 entries, 0 to 501\n",
      "Data columns (total 11 columns):\n",
      " #   Column                                 Non-Null Count  Dtype  \n",
      "---  ------                                 --------------  -----  \n",
      " 0   Gender                                 502 non-null    object \n",
      " 1   Age                                    502 non-null    int64  \n",
      " 2   Academic Pressure                      502 non-null    float64\n",
      " 3   Study Satisfaction                     502 non-null    float64\n",
      " 4   Sleep Duration                         502 non-null    object \n",
      " 5   Dietary Habits                         502 non-null    object \n",
      " 6   Have you ever had suicidal thoughts ?  502 non-null    object \n",
      " 7   Study Hours                            502 non-null    int64  \n",
      " 8   Financial Stress                       502 non-null    int64  \n",
      " 9   Family History of Mental Illness       502 non-null    object \n",
      " 10  Depression                             502 non-null    object \n",
      "dtypes: float64(2), int64(3), object(6)\n",
      "memory usage: 43.3+ KB\n",
      "None\n",
      "       Gender         Age  Academic Pressure  Study Satisfaction  \\\n",
      "count     502  502.000000         502.000000          502.000000   \n",
      "unique      2         NaN                NaN                 NaN   \n",
      "top      Male         NaN                NaN                 NaN   \n",
      "freq      267         NaN                NaN                 NaN   \n",
      "mean      NaN   26.241036           3.003984            3.075697   \n",
      "std       NaN    4.896501           1.390007            1.373490   \n",
      "min       NaN   18.000000           1.000000            1.000000   \n",
      "25%       NaN   22.000000           2.000000            2.000000   \n",
      "50%       NaN   26.500000           3.000000            3.000000   \n",
      "75%       NaN   30.000000           4.000000            4.000000   \n",
      "max       NaN   34.000000           5.000000            5.000000   \n",
      "\n",
      "       Sleep Duration Dietary Habits Have you ever had suicidal thoughts ?  \\\n",
      "count             502            502                                   502   \n",
      "unique              4              3                                     2   \n",
      "top         7-8 hours       Moderate                                   Yes   \n",
      "freq              128            172                                   260   \n",
      "mean              NaN            NaN                                   NaN   \n",
      "std               NaN            NaN                                   NaN   \n",
      "min               NaN            NaN                                   NaN   \n",
      "25%               NaN            NaN                                   NaN   \n",
      "50%               NaN            NaN                                   NaN   \n",
      "75%               NaN            NaN                                   NaN   \n",
      "max               NaN            NaN                                   NaN   \n",
      "\n",
      "        Study Hours  Financial Stress Family History of Mental Illness  \\\n",
      "count    502.000000        502.000000                              502   \n",
      "unique          NaN               NaN                                2   \n",
      "top             NaN               NaN                               No   \n",
      "freq            NaN               NaN                              265   \n",
      "mean       6.404382          2.928287                              NaN   \n",
      "std        3.742434          1.425053                              NaN   \n",
      "min        0.000000          1.000000                              NaN   \n",
      "25%        3.000000          2.000000                              NaN   \n",
      "50%        7.000000          3.000000                              NaN   \n",
      "75%       10.000000          4.000000                              NaN   \n",
      "max       12.000000          5.000000                              NaN   \n",
      "\n",
      "       Depression  \n",
      "count         502  \n",
      "unique          2  \n",
      "top           Yes  \n",
      "freq          252  \n",
      "mean          NaN  \n",
      "std           NaN  \n",
      "min           NaN  \n",
      "25%           NaN  \n",
      "50%           NaN  \n",
      "75%           NaN  \n",
      "max           NaN  \n",
      "Gender                                   0\n",
      "Age                                      0\n",
      "Academic Pressure                        0\n",
      "Study Satisfaction                       0\n",
      "Sleep Duration                           0\n",
      "Dietary Habits                           0\n",
      "Have you ever had suicidal thoughts ?    0\n",
      "Study Hours                              0\n",
      "Financial Stress                         0\n",
      "Family History of Mental Illness         0\n",
      "Depression                               0\n",
      "dtype: int64\n",
      "\n",
      "****************************************************************************************************\n",
      "\n"
     ]
    }
   ],
   "source": [
    "printTitle(\"Overview\")\n",
    "printLineSep(1,1)\n",
    "data = pd.read_csv(\"Student Depression Dataset.csv\")\n",
    "print(data.info())\n",
    "print(data.describe(include=\"all\"))\n",
    "print(data.isnull().sum())\n",
    "printLineSep(1,1)"
   ]
  },
  {
   "cell_type": "code",
   "execution_count": 27,
   "id": "90b606ec-97e0-4d09-a4ea-781ab03330bf",
   "metadata": {},
   "outputs": [
    {
     "name": "stdout",
     "output_type": "stream",
     "text": [
      "\n",
      "****************************************************************************************************\n",
      "\n",
      "\n",
      "* HANDLE CATEGORICAL VARIABLES *\n",
      "\n",
      "****************************************************************************************************\n",
      "\n"
     ]
    }
   ],
   "source": [
    "printLineSep(1,1)\n",
    "printTitle(\"Handle categorical variables\")\n",
    "printLineSep(1,1)"
   ]
  },
  {
   "cell_type": "code",
   "execution_count": 13,
   "id": "a4ced83e-bf61-423c-bdb8-a1f550fd9cab",
   "metadata": {},
   "outputs": [],
   "source": [
    "data = pd.get_dummies(data, columns=[\n",
    "    \"Gender\", \n",
    "    \"Sleep Duration\", \n",
    "    \"Dietary Habits\", \n",
    "    \"Have you ever had suicidal thoughts ?\", \n",
    "    \"Family History of Mental Illness\"\n",
    "], drop_first=True)"
   ]
  },
  {
   "cell_type": "code",
   "execution_count": 26,
   "id": "db68b426-c3aa-4bb7-bffb-bfc184d7a7ce",
   "metadata": {},
   "outputs": [
    {
     "name": "stdout",
     "output_type": "stream",
     "text": [
      "\n",
      "****************************************************************************************************\n",
      "\n",
      "\n",
      "* FEATURE SCALING *\n",
      "\n",
      "****************************************************************************************************\n",
      "\n"
     ]
    }
   ],
   "source": [
    "printLineSep(1,1)\n",
    "printTitle(\"Feature scaling\")\n",
    "printLineSep(1,1)"
   ]
  },
  {
   "cell_type": "code",
   "execution_count": 16,
   "id": "28802a16-4b6c-4527-9914-831a8d6d62d5",
   "metadata": {},
   "outputs": [],
   "source": [
    "scaler = MinMaxScaler()\n",
    "numerical_columns = [\n",
    "    \"Age\", \n",
    "    \"Academic Pressure\", \n",
    "    \"Study Satisfaction\", \n",
    "    \"Study Hours\", \n",
    "    \"Financial Stress\"\n",
    "]\n",
    "\n",
    "data[numerical_columns] = scaler.fit_transform(data[numerical_columns])"
   ]
  },
  {
   "cell_type": "code",
   "execution_count": 25,
   "id": "50cf7b28-9af5-4bc1-82e0-1d7d2764afcf",
   "metadata": {},
   "outputs": [
    {
     "name": "stdout",
     "output_type": "stream",
     "text": [
      "\n",
      "****************************************************************************************************\n",
      "\n",
      "\n",
      "* SPLITTING DATA *\n",
      "\n",
      "****************************************************************************************************\n",
      "\n"
     ]
    }
   ],
   "source": [
    "printLineSep(1,1)\n",
    "printTitle(\"Splitting data\")\n",
    "printLineSep(1,1)"
   ]
  },
  {
   "cell_type": "code",
   "execution_count": 19,
   "id": "5b4d3255-e6d7-4603-b308-8a4ef3500ec4",
   "metadata": {},
   "outputs": [],
   "source": [
    "X = data.drop(columns=[\"Depression\"])\n",
    "y = data[\"Depression\"]\n",
    "\n",
    "X_train, X_test, y_train, y_test = train_test_split(X, y, test_size=0.2, random_state=42)"
   ]
  },
  {
   "cell_type": "code",
   "execution_count": 24,
   "id": "0001d309-f9b1-46b3-9b4e-a59e21753485",
   "metadata": {},
   "outputs": [
    {
     "name": "stdout",
     "output_type": "stream",
     "text": [
      "\n",
      "****************************************************************************************************\n",
      "\n",
      "\n",
      "* TRAINING THE RANDOM FOREST MODEL *\n",
      "\n",
      "****************************************************************************************************\n",
      "\n"
     ]
    }
   ],
   "source": [
    "printLineSep(1,1)\n",
    "printTitle(\"Training the Random Forest model\")\n",
    "printLineSep(1,1)"
   ]
  },
  {
   "cell_type": "code",
   "execution_count": 35,
   "id": "a67866a1-d395-4b5d-b3b8-56e4f4482049",
   "metadata": {},
   "outputs": [
    {
     "name": "stdout",
     "output_type": "stream",
     "text": [
      "\n",
      "* INFORMATION ABOUT MODEL *\n",
      "\n",
      "****************************************************************************************************\n",
      "\n"
     ]
    }
   ],
   "source": [
    "model = RandomForestClassifier(random_state=42)\n",
    "model.fit(X_train, y_train)\n",
    "printTitle(\"information about model\")\n",
    "printLineSep(1,1)"
   ]
  },
  {
   "cell_type": "code",
   "execution_count": 36,
   "id": "097d4af2-8551-4536-9ec1-390c6380f5d4",
   "metadata": {},
   "outputs": [
    {
     "name": "stdout",
     "output_type": "stream",
     "text": [
      "Accuracy: 0.9405940594059405\n",
      "              precision    recall  f1-score   support\n",
      "\n",
      "          No       0.96      0.92      0.94        48\n",
      "         Yes       0.93      0.96      0.94        53\n",
      "\n",
      "    accuracy                           0.94       101\n",
      "   macro avg       0.94      0.94      0.94       101\n",
      "weighted avg       0.94      0.94      0.94       101\n",
      "\n"
     ]
    }
   ],
   "source": [
    "y_pred = model.predict(X_test)\n",
    "print(\"Accuracy:\", accuracy_score(y_test, y_pred))\n",
    "print(classification_report(y_test, y_pred))"
   ]
  },
  {
   "cell_type": "code",
   "execution_count": 31,
   "id": "ef2dac91-28b2-4a16-8b66-e87a2475428e",
   "metadata": {},
   "outputs": [
    {
     "name": "stdout",
     "output_type": "stream",
     "text": [
      "\n",
      "****************************************************************************************************\n",
      "\n"
     ]
    }
   ],
   "source": [
    "printLineSep(1,1)"
   ]
  },
  {
   "cell_type": "code",
   "execution_count": 37,
   "id": "4ef1ee0f-4b16-42c4-ab42-661bc3978d52",
   "metadata": {},
   "outputs": [
    {
     "name": "stdout",
     "output_type": "stream",
     "text": [
      "\n",
      "****************************************************************************************************\n",
      "\n",
      "\n",
      "* SAVING OUR MODEL *\n",
      "\n",
      "****************************************************************************************************\n",
      "\n"
     ]
    }
   ],
   "source": [
    "printLineSep(1,1)\n",
    "printTitle(\"Saving our model\")\n",
    "printLineSep(1,1)"
   ]
  },
  {
   "cell_type": "code",
   "execution_count": 39,
   "id": "33291bad-819a-4c70-a450-b601fd1f3c97",
   "metadata": {},
   "outputs": [],
   "source": [
    "with open(\"student_depression_model.pkl\", \"wb\") as file:\n",
    "    pickle.dump(model, file)"
   ]
  },
  {
   "cell_type": "code",
   "execution_count": null,
   "id": "fa943b7d-f7e8-4719-a3db-d854ef8b0af8",
   "metadata": {},
   "outputs": [],
   "source": []
  }
 ],
 "metadata": {
  "kernelspec": {
   "display_name": "Python 3 (ipykernel)",
   "language": "python",
   "name": "python3"
  },
  "language_info": {
   "codemirror_mode": {
    "name": "ipython",
    "version": 3
   },
   "file_extension": ".py",
   "mimetype": "text/x-python",
   "name": "python",
   "nbconvert_exporter": "python",
   "pygments_lexer": "ipython3",
   "version": "3.11.5"
  }
 },
 "nbformat": 4,
 "nbformat_minor": 5
}
